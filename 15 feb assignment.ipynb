{
 "cells": [
  {
   "cell_type": "markdown",
   "id": "76fddffa-940c-4649-9bfb-0a69ab28918d",
   "metadata": {},
   "source": [
    "Q1)"
   ]
  },
  {
   "cell_type": "markdown",
   "id": "f4f8fea0-419a-46ad-8151-8146bf63f725",
   "metadata": {},
   "source": [
    "Multiprocessing is python code used to run multiple processes using single thread.\n",
    "It is useful to improve performance of program by using multiple CPUs."
   ]
  },
  {
   "cell_type": "markdown",
   "id": "911f62c6-44ca-4f1a-a87f-a4fa86a0e124",
   "metadata": {},
   "source": [
    "Q2)"
   ]
  },
  {
   "cell_type": "markdown",
   "id": "45527bf2-c41a-4a00-baa0-c8297c2f270a",
   "metadata": {},
   "source": [
    "Multithreading runs multiple threads simultaneously within a single process, while multiprocessing runs multiple processes simultaneously within a single thread."
   ]
  },
  {
   "cell_type": "markdown",
   "id": "ce0da4b2-671e-4a63-a526-110ec03cf6b9",
   "metadata": {},
   "source": [
    "Q3)"
   ]
  },
  {
   "cell_type": "code",
   "execution_count": 1,
   "id": "b1ad73d0-507d-4cf6-b628-7f97772c8e03",
   "metadata": {},
   "outputs": [
    {
     "name": "stdout",
     "output_type": "stream",
     "text": [
      "this is my main prog\n",
      "this is my multiprocessing prog\n"
     ]
    }
   ],
   "source": [
    "import multiprocessing\n",
    "def test():\n",
    "    print(\"this is my multiprocessing prog\")\n",
    "if __name__==\"__main__\":\n",
    "    m=multiprocessing.Process(target=test)\n",
    "    print(\"this is my main prog\")\n",
    "    m.start()\n",
    "    m.join()\n",
    "    "
   ]
  },
  {
   "cell_type": "markdown",
   "id": "d3068326-bc35-4942-8bd0-30954801206e",
   "metadata": {},
   "source": [
    "Q4)"
   ]
  },
  {
   "cell_type": "markdown",
   "id": "5126abf5-5276-48cb-9338-ad21ff0920a2",
   "metadata": {},
   "source": [
    "multiprocessing.Pool is a method in python is used for parallel execution of function across multiple input values,distributing the input data across processes.\n",
    "It is used to run multiple processes simultaneously."
   ]
  },
  {
   "cell_type": "markdown",
   "id": "5281df8c-a5d7-4ecd-8de6-f5326cfad3e3",
   "metadata": {},
   "source": [
    "Q5)"
   ]
  },
  {
   "cell_type": "code",
   "execution_count": 2,
   "id": "815af33e-4bd1-41a6-826b-b17138f19d21",
   "metadata": {},
   "outputs": [
    {
     "name": "stdout",
     "output_type": "stream",
     "text": [
      "[['s', 'u', 'd', 'h'], ['k', 'u', 'm', 'a', 'r']]\n"
     ]
    }
   ],
   "source": [
    "def labour(n):\n",
    "    return list(n)\n",
    "if __name__==\"__main__\":\n",
    "    with multiprocessing.Pool(processes=5) as pool:\n",
    "        out=pool.map(list,[\"sudh\",\"kumar\"])\n",
    "        print(out)"
   ]
  },
  {
   "cell_type": "markdown",
   "id": "d0faceb3-a2c2-44b1-abfb-e19c49e90427",
   "metadata": {},
   "source": [
    "Q6)"
   ]
  },
  {
   "cell_type": "code",
   "execution_count": null,
   "id": "592bcec4-0101-45bf-8ad9-ecef35a4427d",
   "metadata": {},
   "outputs": [],
   "source": []
  }
 ],
 "metadata": {
  "kernelspec": {
   "display_name": "Python 3 (ipykernel)",
   "language": "python",
   "name": "python3"
  },
  "language_info": {
   "codemirror_mode": {
    "name": "ipython",
    "version": 3
   },
   "file_extension": ".py",
   "mimetype": "text/x-python",
   "name": "python",
   "nbconvert_exporter": "python",
   "pygments_lexer": "ipython3",
   "version": "3.10.8"
  }
 },
 "nbformat": 4,
 "nbformat_minor": 5
}
